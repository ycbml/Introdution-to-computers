{
  "nbformat": 4,
  "nbformat_minor": 0,
  "metadata": {
    "colab": {
      "name": "0511.ipynb",
      "provenance": [],
      "authorship_tag": "ABX9TyOd0YKWFHVZC+IcWfnQoF6E",
      "include_colab_link": true
    },
    "kernelspec": {
      "name": "python3",
      "display_name": "Python 3"
    },
    "language_info": {
      "name": "python"
    }
  },
  "cells": [
    {
      "cell_type": "markdown",
      "metadata": {
        "id": "view-in-github",
        "colab_type": "text"
      },
      "source": [
        "<a href=\"https://colab.research.google.com/github/ycbml/Introdution-to-computers/blob/main/0511.ipynb\" target=\"_parent\"><img src=\"https://colab.research.google.com/assets/colab-badge.svg\" alt=\"Open In Colab\"/></a>"
      ]
    },
    {
      "cell_type": "code",
      "execution_count": 1,
      "metadata": {
        "colab": {
          "base_uri": "https://localhost:8080/"
        },
        "id": "Q8FcRb-xMZYG",
        "outputId": "bb798554-91f0-49e9-a475-eabcd539b294"
      },
      "outputs": [
        {
          "output_type": "stream",
          "name": "stdout",
          "text": [
            "test\n"
          ]
        }
      ],
      "source": [
        "print(\"test\")"
      ]
    },
    {
      "cell_type": "code",
      "source": [
        "temp = float(input(\"請輸入你的體溫\"))\n",
        "if temp >=37.5:\n",
        "  print(\"體溫過高\")\n",
        "elif temp >= 37 and temp <37.4:\n",
        "  print(\"體溫略高\")\n",
        "elif temp >= 34 and temp <36.9:\n",
        "  print(\"體溫正常\")\n",
        "else:\n",
        "  print(\"體溫異常，請重新量測!\")\n",
        "  \n"
      ],
      "metadata": {
        "colab": {
          "base_uri": "https://localhost:8080/"
        },
        "id": "TGNsxrQ8Mpx2",
        "outputId": "76ecf5ef-3be4-4b2a-de65-d092a2cea87e"
      },
      "execution_count": 2,
      "outputs": [
        {
          "output_type": "stream",
          "name": "stdout",
          "text": [
            "請輸入你的體溫37.5\n",
            "體溫過高\n"
          ]
        }
      ]
    },
    {
      "cell_type": "code",
      "source": [
        "money=int(input(\"請輸入金額:\"))\n",
        "if(money>=10000):\n",
        "  if (money >=100000):\n",
        "    print(\"八折\", money * 0.8, end = \"元/n\")\n",
        "  elif (money >=50000):\n",
        "    print(\"八五折\", money * 0.85, end = \"元/n\")\n",
        "  elif (money >=30000):\n",
        "    print(\"九折\", money * 0.9, end = \"元/n\")\n",
        "  else:\n",
        "    print(\"九五折\", money * 0.95, end = \"元/n\")\n",
        "else:\n",
        "  print(\"沒打折\", money , end = \"元/n\")\n",
        "\n",
        "\n"
      ],
      "metadata": {
        "colab": {
          "base_uri": "https://localhost:8080/"
        },
        "id": "1wzhj8fkNlfu",
        "outputId": "29dadeec-4cbb-401a-aca7-e780f42a1da4"
      },
      "execution_count": 7,
      "outputs": [
        {
          "output_type": "stream",
          "name": "stdout",
          "text": [
            "請輸入金額:100\n",
            "沒打折 100元/n"
          ]
        }
      ]
    },
    {
      "cell_type": "code",
      "source": [
        "score=int(input(\"請輸入成績;\"))\n",
        "if(score>=10):\n",
        "  if(score>=90):\n",
        "    print(\"A\")\n",
        "  elif(80<=score<=89):\n",
        "    print(\"B\")\n",
        "  elif(70<=score<=79):\n",
        "    print(\"C\")\n",
        "  elif(60<=score<=69):\n",
        "    print(\"D\")\n",
        "  else:\n",
        "    print(\"E\")"
      ],
      "metadata": {
        "colab": {
          "base_uri": "https://localhost:8080/"
        },
        "id": "Md_V4nUhQrXS",
        "outputId": "665449f3-b48d-4c78-a431-2acc4bbaaebf"
      },
      "execution_count": 8,
      "outputs": [
        {
          "output_type": "stream",
          "name": "stdout",
          "text": [
            "請輸入成績;90\n",
            "A\n"
          ]
        }
      ]
    },
    {
      "cell_type": "code",
      "source": [
        "score=int(input(\"請輸入成績;\"))\n",
        "if(score>=10):\n",
        "  if(score>=90):\n",
        "    print(\"A\")\n",
        "  elif(80<=score<=89):\n",
        "    print(\"B\")\n",
        "  elif(70<=score<=79):\n",
        "    print(\"C\")\n",
        "  elif(60<=score<=69):\n",
        "    print(\"D\")\n",
        "  else:\n",
        "    print(\"E\")"
      ],
      "metadata": {
        "colab": {
          "base_uri": "https://localhost:8080/"
        },
        "id": "8luwH3LbReKi",
        "outputId": "458bff61-171d-48d0-c402-9829c352a90f"
      },
      "execution_count": 9,
      "outputs": [
        {
          "output_type": "stream",
          "name": "stdout",
          "text": [
            "請輸入成績;85\n",
            "B\n"
          ]
        }
      ]
    }
  ]
}